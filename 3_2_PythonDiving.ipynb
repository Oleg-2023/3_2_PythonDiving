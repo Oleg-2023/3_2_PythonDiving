{
 "cells": [
  {
   "cell_type": "markdown",
   "id": "74c92146",
   "metadata": {},
   "source": [
    "# Задания по теме погружение в Python.\n"
   ]
  },
  {
   "cell_type": "code",
   "execution_count": 14,
   "id": "3c98059a",
   "metadata": {},
   "outputs": [],
   "source": [
    "# Общие функции\n",
    "# Ввод и проверка целого числа\n",
    "def get_int(addition_text, default_val = 0):\n",
    "    x = input('Введите целое число - ' + addition_text + ' <' + str(default_val) + '>: ')\n",
    "    number = 0\n",
    "    try:\n",
    "        number = int(x)\n",
    "    except ValueError:  \n",
    "        print('Ошибка: \"', x ,'\" Не является целым числом')  \n",
    "    return number    "
   ]
  },
  {
   "cell_type": "markdown",
   "id": "97a56dad",
   "metadata": {},
   "source": [
    "#### 1. Напишите функцию, которая будет принимать на вход длину стороны квадрата и выводить на экран площадь квадрата и его периметр."
   ]
  },
  {
   "cell_type": "code",
   "execution_count": 15,
   "id": "c23582f3",
   "metadata": {},
   "outputs": [
    {
     "name": "stdout",
     "output_type": "stream",
     "text": [
      "Введите целое число - сторону квадрата <1>: f\n",
      "Ошибка: \" f \" Не является целым числом\n",
      "Square =  0\n",
      "Perimeter =  0\n"
     ]
    }
   ],
   "source": [
    "def quadrate_info(l):\n",
    "    print('Square = ', l*l)\n",
    "    print('Perimeter = ', l*4)\n",
    " \n",
    "l = get_int('сторону квадрата', 1)\n",
    "\n",
    "quadrate_info(l)"
   ]
  },
  {
   "cell_type": "markdown",
   "id": "947298f5",
   "metadata": {},
   "source": [
    "#### 2. Напишите функцию, которая будет принимать два числа и считать сумму квадратов этих двух чисел, запишите своё вычисление в переменную squared. "
   ]
  },
  {
   "cell_type": "code",
   "execution_count": 16,
   "id": "0cbc8dfb",
   "metadata": {},
   "outputs": [
    {
     "name": "stdout",
     "output_type": "stream",
     "text": [
      "Введите целое число - первое число <0>: 5\n",
      "Введите целое число - второе число <0>: 9\n",
      "x*x + y*y =  106\n"
     ]
    }
   ],
   "source": [
    "def two_squares_sum(x, y):\n",
    "    return x**2 + y**2\n",
    "\n",
    "x = get_int('первое число')\n",
    "y = get_int('второе число')\n",
    "\n",
    "squared = two_squares_sum(x, y)\n",
    "print('x*x + y*y = ', squared)"
   ]
  },
  {
   "cell_type": "markdown",
   "id": "5bbc14aa",
   "metadata": {},
   "source": [
    "####  3. Напишите функцию, которая будет принимать на вход список [“male“,“male“,“female“,“male“,“male“,“female“,”female“] и возвращать его в обратном порядке. Запишите список в переменную new_list. "
   ]
  },
  {
   "cell_type": "code",
   "execution_count": 25,
   "id": "3c5db6cc",
   "metadata": {},
   "outputs": [
    {
     "name": "stdout",
     "output_type": "stream",
     "text": [
      "['female', 'female', 'male', 'male', 'female', 'male', 'male']\n",
      "\n",
      "['male', 'male', 'female', 'male', 'male', 'female', 'female']\n"
     ]
    }
   ],
   "source": [
    "# 1 способ\n",
    "def reverse_list_1(lst):\n",
    "    return list(reversed(lst))\n",
    "# 2 способ\n",
    "def reverse_list_2(lst):\n",
    "    return lst[::-1]\n",
    "\n",
    "old_list = ['male','male','female','male','male','female','female'] \n",
    "new_list = reverse_list_1(old_list)\n",
    "\n",
    "print(new_list)\n",
    "print()\n",
    "# вернем обратно\n",
    "print(reverse_list_2(new_list))\n"
   ]
  },
  {
   "cell_type": "markdown",
   "id": "5543b578",
   "metadata": {},
   "source": [
    "#### 4. Напишите функцию, которая будет принимать на вход список из предыдущего задания(new_list) Подсказка: вам необходимо добавить еще один параметр в описание функции и выводить на экран количество мужчин или количество женщин в зависимости от требований пользователя."
   ]
  },
  {
   "cell_type": "code",
   "execution_count": 27,
   "id": "fc238b14",
   "metadata": {},
   "outputs": [
    {
     "name": "stdout",
     "output_type": "stream",
     "text": [
      "Количество мужчин в списке:  4\n",
      "Количество женщин в списке:  3\n"
     ]
    }
   ],
   "source": [
    "def calc_sex(lst, male = True ):\n",
    "    return lst.count('male' if male else 'female')\n",
    "\n",
    "print('Количество мужчин в списке: ', calc_sex(new_list))\n",
    "print('Количество женщин в списке: ', calc_sex(new_list, False))"
   ]
  },
  {
   "cell_type": "markdown",
   "id": "6d150dba",
   "metadata": {},
   "source": [
    "#### 5. Напишите функцию, которая будет принимать строку (Например: “female”), а возвращать словарь где ключи — это символы строки, а значения кол-во символов в строке."
   ]
  },
  {
   "cell_type": "code",
   "execution_count": 39,
   "id": "608ec285",
   "metadata": {},
   "outputs": [
    {
     "name": "stdout",
     "output_type": "stream",
     "text": [
      "{'male': 4}\n",
      "{'female': 3}\n"
     ]
    }
   ],
   "source": [
    "def get_dict(lst, dict_key):\n",
    "    d = dict.fromkeys([dict_key], lst.count(dict_key))\n",
    "    return d            \n",
    "                                   \n",
    "print(get_dict(new_list, 'male'))\n",
    "print(get_dict(new_list, 'female'))   "
   ]
  },
  {
   "cell_type": "code",
   "execution_count": null,
   "id": "c8d9508f",
   "metadata": {},
   "outputs": [],
   "source": []
  }
 ],
 "metadata": {
  "kernelspec": {
   "display_name": "Python 3 (ipykernel)",
   "language": "python",
   "name": "python3"
  },
  "language_info": {
   "codemirror_mode": {
    "name": "ipython",
    "version": 3
   },
   "file_extension": ".py",
   "mimetype": "text/x-python",
   "name": "python",
   "nbconvert_exporter": "python",
   "pygments_lexer": "ipython3",
   "version": "3.11.5"
  }
 },
 "nbformat": 4,
 "nbformat_minor": 5
}
